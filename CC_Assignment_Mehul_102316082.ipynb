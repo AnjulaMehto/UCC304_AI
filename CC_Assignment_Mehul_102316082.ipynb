{
  "nbformat": 4,
  "nbformat_minor": 0,
  "metadata": {
    "colab": {
      "provenance": []
    },
    "kernelspec": {
      "name": "python3",
      "display_name": "Python 3"
    },
    "language_info": {
      "name": "python"
    }
  },
  "cells": [
    {
      "cell_type": "markdown",
      "source": [
        "Assingment 1.1: WAP to print your name three times"
      ],
      "metadata": {
        "id": "g9u8_vP6Wn5l"
      }
    },
    {
      "cell_type": "code",
      "execution_count": null,
      "metadata": {
        "id": "RcSCbwjEWXkP"
      },
      "outputs": [],
      "source": [
        "print(\"Mehul Gupta\")\n",
        "print(\"Mehul Gupta\")\n",
        "print(\"Mehul Gupta\")"
      ]
    },
    {
      "cell_type": "markdown",
      "source": [
        "Assingment 2.1: WAP to add three numbers and print the result."
      ],
      "metadata": {
        "id": "d-8Dg6u-Wst8"
      }
    },
    {
      "cell_type": "code",
      "source": [
        "def add_three_numbers(num1, num2, num3):\n",
        "\n",
        "  result = num1 + num2 + num3\n",
        "  print(result)\n",
        "\n",
        "add_three_numbers(5, 10, 15)\n"
      ],
      "metadata": {
        "id": "T4ndUp4XWe-w"
      },
      "execution_count": null,
      "outputs": []
    },
    {
      "cell_type": "markdown",
      "source": [
        "Assingment 2.2: WAP to concatinate three strings and print the result."
      ],
      "metadata": {
        "id": "B8pxuMjMWwCK"
      }
    },
    {
      "cell_type": "code",
      "source": [
        "str1 = \"hello\"\n",
        "str2 = \"world\"\n",
        "str3 =  \"!\"\n",
        "result = str1 + str2 + str3\n",
        "print(result)"
      ],
      "metadata": {
        "colab": {
          "base_uri": "https://localhost:8080/"
        },
        "id": "BH7oeEe5Wy7E",
        "outputId": "af51d1b3-fb92-48fb-8f0e-1b44184d46dc"
      },
      "execution_count": 2,
      "outputs": [
        {
          "output_type": "stream",
          "name": "stdout",
          "text": [
            "helloworld!\n"
          ]
        }
      ]
    },
    {
      "cell_type": "markdown",
      "source": [
        "Assingment 4.1: WAP to print the table of 7, 9."
      ],
      "metadata": {
        "id": "apQtARpcXJ6W"
      }
    },
    {
      "cell_type": "code",
      "source": [
        "for i in range(1, 11):\n",
        "  print(f\"7 x {i} = {7 * i}\")\n",
        "\n",
        "for i in range(1, 11):\n",
        "  print(f\"9 x {i} = {9 * i}\")"
      ],
      "metadata": {
        "colab": {
          "base_uri": "https://localhost:8080/"
        },
        "collapsed": true,
        "id": "5gWFFjGOXW6p",
        "outputId": "f3f0b5fd-c585-47e6-a256-8fbd82a826c0"
      },
      "execution_count": 3,
      "outputs": [
        {
          "output_type": "stream",
          "name": "stdout",
          "text": [
            "7 x 1 = 7\n",
            "7 x 2 = 14\n",
            "7 x 3 = 21\n",
            "7 x 4 = 28\n",
            "7 x 5 = 35\n",
            "7 x 6 = 42\n",
            "7 x 7 = 49\n",
            "7 x 8 = 56\n",
            "7 x 9 = 63\n",
            "7 x 10 = 70\n",
            "9 x 1 = 9\n",
            "9 x 2 = 18\n",
            "9 x 3 = 27\n",
            "9 x 4 = 36\n",
            "9 x 5 = 45\n",
            "9 x 6 = 54\n",
            "9 x 7 = 63\n",
            "9 x 8 = 72\n",
            "9 x 9 = 81\n",
            "9 x 10 = 90\n"
          ]
        }
      ]
    },
    {
      "cell_type": "markdown",
      "source": [
        "Assingment 4.2: WAP to print the table of n and n is given by user."
      ],
      "metadata": {
        "id": "XN-2U78BXgF8"
      }
    },
    {
      "cell_type": "code",
      "source": [
        "n = int(input())\n",
        "for i in range(1, 11):\n",
        "  print(f\"{n} x {i} = {n * i}\")\n"
      ],
      "metadata": {
        "id": "eDU99PW3XkFY"
      },
      "execution_count": null,
      "outputs": []
    },
    {
      "cell_type": "markdown",
      "source": [
        "Assingment 4.3: WAP to add all the numbers from 1 to n and n is given by user."
      ],
      "metadata": {
        "id": "DPCI6mQBXqIY"
      }
    },
    {
      "cell_type": "code",
      "source": [
        "n = int(input())\n",
        "sum = 0\n",
        "for i in range(1, n + 1):\n",
        "  sum += i\n",
        "sum\n"
      ],
      "metadata": {
        "id": "vhJESZlDXqyz"
      },
      "execution_count": null,
      "outputs": []
    },
    {
      "cell_type": "markdown",
      "source": [
        "Assingment 5.1: WAP to find max amoung three numbers and input from user."
      ],
      "metadata": {
        "id": "2uAi97yZXy7H"
      }
    },
    {
      "cell_type": "code",
      "source": [
        "num1 = int(input())\n",
        "num2 = int(input())\n",
        "num3 = int(input())\n",
        "\n",
        "maximum = max(num1, num2, num3)\n",
        "maximum"
      ],
      "metadata": {
        "id": "fasi9iNqX2Sf"
      },
      "execution_count": null,
      "outputs": []
    },
    {
      "cell_type": "markdown",
      "source": [
        "Assingment 5.2: WAP to add all numbers divisible by 7 and 9 from 1 to n and n is given by the user."
      ],
      "metadata": {
        "id": "9f7hg0nIX95O"
      }
    },
    {
      "cell_type": "code",
      "source": [
        "n = int(input())\n",
        "sum = 0\n",
        "for i in range(1, n + 1):\n",
        "  if i % 7 == 0 and i % 9 == 0:\n",
        "    sum += i\n",
        "sum"
      ],
      "metadata": {
        "id": "AQT7101CX-sS"
      },
      "execution_count": null,
      "outputs": []
    },
    {
      "cell_type": "markdown",
      "source": [
        "Assingment 5.3: WAP to add all prime numbers from 1 to n and n is given by the user."
      ],
      "metadata": {
        "id": "acvFjsjlYDH2"
      }
    },
    {
      "cell_type": "code",
      "source": [
        "n = int(input())\n",
        "sum = 0\n",
        "for num in range(2, n + 1):\n",
        "    i = 2\n",
        "    for i in range(2, int(num**0.5) + 1):\n",
        "        if (num % i) == 0:\n",
        "            i = num\n",
        "            break;\n",
        "    if i is not num:\n",
        "        sum += num\n",
        "sum"
      ],
      "metadata": {
        "id": "NDUm0uQiYDvM"
      },
      "execution_count": null,
      "outputs": []
    },
    {
      "cell_type": "markdown",
      "source": [
        "Assingment 6.1: WAP using function that add all odd numbers from 1 to n, n is given by the user."
      ],
      "metadata": {
        "id": "zG_Vj1IEYJLq"
      }
    },
    {
      "cell_type": "code",
      "source": [
        "n = int(input())\n",
        "sum = 0\n",
        "for i in range(1, n + 1):\n",
        "  if i % 2 != 0:\n",
        "    sum += i\n",
        "sum"
      ],
      "metadata": {
        "id": "QHmRgG7BYJss"
      },
      "execution_count": null,
      "outputs": []
    },
    {
      "cell_type": "markdown",
      "source": [
        "Assingment 6.2: WAP using function that add all prime numbers from 1 to n, n given by the user."
      ],
      "metadata": {
        "id": "djNzx2P6YNwE"
      }
    },
    {
      "cell_type": "code",
      "source": [
        "n = int(input())\n",
        "sum = 0\n",
        "for num in range(2, n + 1):\n",
        "    i = 2\n",
        "    for i in range(2, int(num**0.5) + 1):\n",
        "        if (num % i) == 0:\n",
        "            i = num\n",
        "            break;\n",
        "    if i is not num:\n",
        "        sum += num\n",
        "sum"
      ],
      "metadata": {
        "id": "YlV7EJSGYOYg"
      },
      "execution_count": null,
      "outputs": []
    }
  ]
}